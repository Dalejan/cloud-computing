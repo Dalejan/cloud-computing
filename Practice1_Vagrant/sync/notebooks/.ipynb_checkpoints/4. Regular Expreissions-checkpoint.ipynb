{
 "cells": [
  {
   "cell_type": "code",
   "execution_count": 1,
   "id": "99ab95e1",
   "metadata": {},
   "outputs": [],
   "source": [
    "import re # regular expressions package\n",
    "\n",
    "re_test = \"This is a made up string to test 2 diferent regrex methods\"\n",
    "re_test_messy = \"This           is a made up string to          test 2 diferent regrex methods\"\n",
    "re_test_messy_1 = \"This-is-a/made>>>>> up*''' string to test 2 diferent regrex methods\"\n"
   ]
  },
  {
   "cell_type": "markdown",
   "id": "63bae98b",
   "metadata": {},
   "source": [
    "### Cleaning strings by deleting"
   ]
  },
  {
   "cell_type": "code",
   "execution_count": 7,
   "id": "96271c20",
   "metadata": {},
   "outputs": [
    {
     "data": {
      "text/plain": [
       "['This',\n",
       " 'is',\n",
       " 'a',\n",
       " 'made',\n",
       " 'up',\n",
       " 'string',\n",
       " 'to',\n",
       " 'test',\n",
       " '2',\n",
       " 'diferent',\n",
       " 'regrex',\n",
       " 'methods']"
      ]
     },
     "execution_count": 7,
     "metadata": {},
     "output_type": "execute_result"
    }
   ],
   "source": [
    "#split spaces\n",
    "re.split(\"\\s\",re_test)\n",
    "#re.findall(\"\\S+\",re_test)"
   ]
  },
  {
   "cell_type": "code",
   "execution_count": 9,
   "id": "b4205d85",
   "metadata": {},
   "outputs": [
    {
     "data": {
      "text/plain": [
       "['This',\n",
       " 'is',\n",
       " 'a',\n",
       " 'made',\n",
       " 'up',\n",
       " 'string',\n",
       " 'to',\n",
       " 'test',\n",
       " '2',\n",
       " 'diferent',\n",
       " 'regrex',\n",
       " 'methods']"
      ]
     },
     "execution_count": 9,
     "metadata": {},
     "output_type": "execute_result"
    }
   ],
   "source": [
    "#split ALL spaces\n",
    "re.split(\"\\s+\",re_test_messy)\n",
    "#re.findall(\"\\S+\",re_test_messy)"
   ]
  },
  {
   "cell_type": "code",
   "execution_count": 10,
   "id": "7667dde7",
   "metadata": {},
   "outputs": [
    {
     "data": {
      "text/plain": [
       "['This',\n",
       " 'is',\n",
       " 'a',\n",
       " 'made',\n",
       " 'up',\n",
       " 'string',\n",
       " 'to',\n",
       " 'test',\n",
       " '2',\n",
       " 'diferent',\n",
       " 'regrex',\n",
       " 'methods']"
      ]
     },
     "execution_count": 10,
     "metadata": {},
     "output_type": "execute_result"
    }
   ],
   "source": [
    "#split ALL special characters\n",
    "#re.split(\"\\W+\", re_test_messy_1)\n",
    "re.findall(\"\\w+\",re_test_messy_1)"
   ]
  },
  {
   "cell_type": "markdown",
   "id": "274faacc",
   "metadata": {},
   "source": [
    "### Cleaning strings by replace"
   ]
  },
  {
   "cell_type": "code",
   "execution_count": 11,
   "id": "d6682ed6",
   "metadata": {},
   "outputs": [],
   "source": [
    "pepe_test = \"I try to follow PEEP8 guidelines\""
   ]
  },
  {
   "cell_type": "code",
   "execution_count": 15,
   "id": "d7e18517",
   "metadata": {},
   "outputs": [
    {
     "data": {
      "text/plain": [
       "['try', 'to', 'follow', 'guidelines']"
      ]
     },
     "execution_count": 15,
     "metadata": {},
     "output_type": "execute_result"
    }
   ],
   "source": [
    "import re\n",
    "re.findall(\"[a-z]+\", pepe_test)"
   ]
  },
  {
   "cell_type": "code",
   "execution_count": 16,
   "id": "a2fee8a4",
   "metadata": {},
   "outputs": [
    {
     "data": {
      "text/plain": [
       "['I', 'PEEP']"
      ]
     },
     "execution_count": 16,
     "metadata": {},
     "output_type": "execute_result"
    }
   ],
   "source": [
    "re.findall(\"[A-Z]+\", pepe_test)"
   ]
  },
  {
   "cell_type": "code",
   "execution_count": 21,
   "id": "4048bfb9",
   "metadata": {},
   "outputs": [
    {
     "data": {
      "text/plain": [
       "['PEEP8']"
      ]
     },
     "execution_count": 21,
     "metadata": {},
     "output_type": "execute_result"
    }
   ],
   "source": [
    "re.findall(\"[A-Z]+[0-9]+\", pepe_test)"
   ]
  },
  {
   "cell_type": "code",
   "execution_count": 25,
   "id": "b9c369f0",
   "metadata": {},
   "outputs": [
    {
     "data": {
      "text/plain": [
       "'I try to follow [PEP8 corrected] guidelines'"
      ]
     },
     "execution_count": 25,
     "metadata": {},
     "output_type": "execute_result"
    }
   ],
   "source": [
    "re.sub(\"[A-Z]+[0-9]+\",\"[PEP8 corrected]\", pepe_test)\n"
   ]
  },
  {
   "cell_type": "code",
   "execution_count": 28,
   "id": "cea9cd2c",
   "metadata": {},
   "outputs": [
    {
     "data": {
      "text/plain": [
       "<re.Match object; span=(9, 10), match='f'>"
      ]
     },
     "execution_count": 28,
     "metadata": {},
     "output_type": "execute_result"
    }
   ],
   "source": [
    "re.search(\"f\",pepe_test)"
   ]
  }
 ],
 "metadata": {
  "kernelspec": {
   "display_name": "Python 3",
   "language": "python",
   "name": "python3"
  },
  "language_info": {
   "codemirror_mode": {
    "name": "ipython",
    "version": 3
   },
   "file_extension": ".py",
   "mimetype": "text/x-python",
   "name": "python",
   "nbconvert_exporter": "python",
   "pygments_lexer": "ipython3",
   "version": "3.8.5"
  }
 },
 "nbformat": 4,
 "nbformat_minor": 5
}
